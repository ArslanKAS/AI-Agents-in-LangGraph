{
 "cells": [
  {
   "cell_type": "markdown",
   "id": "b5789bc3-b1ae-42c7-94a8-2ef4f89946fc",
   "metadata": {},
   "source": [
    "# Lesson 4: Persistence and Streaming"
   ]
  },
  {
   "cell_type": "code",
   "execution_count": 1,
   "id": "f5762271-8736-4e94-9444-8c92bd0e8074",
   "metadata": {
    "height": 64
   },
   "outputs": [],
   "source": [
    "from dotenv import load_dotenv\n",
    "\n",
    "_ = load_dotenv()"
   ]
  },
  {
   "cell_type": "code",
   "execution_count": 2,
   "id": "d0168aee-bce9-4d60-b827-f86a88187e31",
   "metadata": {
    "height": 115
   },
   "outputs": [],
   "source": [
    "from langgraph.graph import StateGraph, END\n",
    "from typing import TypedDict, Annotated\n",
    "import operator\n",
    "from langchain_core.messages import AnyMessage, SystemMessage, HumanMessage, ToolMessage\n",
    "from langchain_openai import ChatOpenAI\n",
    "from langchain_community.tools.tavily_search import TavilySearchResults"
   ]
  },
  {
   "cell_type": "code",
   "execution_count": 3,
   "id": "da06a64f-a2d5-4a66-8090-9ada0930c684",
   "metadata": {
    "height": 30
   },
   "outputs": [],
   "source": [
    "tool = TavilySearchResults(max_results=2)"
   ]
  },
  {
   "cell_type": "code",
   "execution_count": 4,
   "id": "2589c5b6-6cc2-4594-9a17-dccdcf676054",
   "metadata": {
    "height": 47
   },
   "outputs": [],
   "source": [
    "class AgentState(TypedDict):\n",
    "    messages: Annotated[list[AnyMessage], operator.add]"
   ]
  },
  {
   "cell_type": "code",
   "execution_count": 5,
   "id": "9c033522-d2fc-41ac-8e3c-5e35872bf88d",
   "metadata": {
    "height": 64
   },
   "outputs": [],
   "source": [
    "from langgraph.checkpoint.sqlite import SqliteSaver\n",
    "\n",
    "memory = SqliteSaver.from_conn_string(\":memory:\")"
   ]
  },
  {
   "cell_type": "code",
   "execution_count": 6,
   "id": "a2ba84ec-c172-4de7-ac55-e3158a531b23",
   "metadata": {
    "height": 574
   },
   "outputs": [],
   "source": [
    "class Agent:\n",
    "    def __init__(self, model, tools, checkpointer, system=\"\"):\n",
    "        self.system = system\n",
    "        graph = StateGraph(AgentState)\n",
    "        graph.add_node(\"llm\", self.call_openai)\n",
    "        graph.add_node(\"action\", self.take_action)\n",
    "        graph.add_conditional_edges(\"llm\", self.exists_action, {True: \"action\", False: END})\n",
    "        graph.add_edge(\"action\", \"llm\")\n",
    "        graph.set_entry_point(\"llm\")\n",
    "        self.graph = graph.compile(checkpointer=checkpointer)\n",
    "        self.tools = {t.name: t for t in tools}\n",
    "        self.model = model.bind_tools(tools)\n",
    "\n",
    "    def call_openai(self, state: AgentState):\n",
    "        messages = state['messages']\n",
    "        if self.system:\n",
    "            messages = [SystemMessage(content=self.system)] + messages\n",
    "        message = self.model.invoke(messages)\n",
    "        return {'messages': [message]}\n",
    "\n",
    "    def exists_action(self, state: AgentState):\n",
    "        result = state['messages'][-1]\n",
    "        return len(result.tool_calls) > 0\n",
    "\n",
    "    def take_action(self, state: AgentState):\n",
    "        tool_calls = state['messages'][-1].tool_calls\n",
    "        results = []\n",
    "        for t in tool_calls:\n",
    "            print(f\"Calling: {t}\")\n",
    "            result = self.tools[t['name']].invoke(t['args'])\n",
    "            results.append(ToolMessage(tool_call_id=t['id'], name=t['name'], content=str(result)))\n",
    "        print(\"Back to the model!\")\n",
    "        return {'messages': results}"
   ]
  },
  {
   "cell_type": "code",
   "execution_count": 7,
   "id": "876d5092-b8ef-4e38-b4d7-0e80c609bf7a",
   "metadata": {
    "height": 132
   },
   "outputs": [],
   "source": [
    "prompt = \"\"\"You are a smart research assistant. Use the search engine to look up information. \\\n",
    "You are allowed to make multiple calls (either together or in sequence). \\\n",
    "Only look up information when you are sure of what you want. \\\n",
    "If you need to look up some information before asking a follow up question, you are allowed to do that!\n",
    "\"\"\"\n",
    "model = ChatOpenAI(model=\"gpt-4o\")\n",
    "abot = Agent(model, [tool], system=prompt, checkpointer=memory)"
   ]
  },
  {
   "cell_type": "code",
   "execution_count": 8,
   "id": "10084a02-2928-4945-9f7c-ad3f5b33caf7",
   "metadata": {
    "height": 30
   },
   "outputs": [],
   "source": [
    "messages = [HumanMessage(content=\"What is the weather in Chiniot?\")]"
   ]
  },
  {
   "cell_type": "code",
   "execution_count": 9,
   "id": "714d1205-f8fc-4912-b148-2a45da99219c",
   "metadata": {
    "height": 30
   },
   "outputs": [],
   "source": [
    "thread = {\"configurable\": {\"thread_id\": \"1\"}}"
   ]
  },
  {
   "cell_type": "code",
   "execution_count": 10,
   "id": "83588e70-254f-4f83-a510-c8ae81e729b0",
   "metadata": {
    "height": 64
   },
   "outputs": [
    {
     "name": "stdout",
     "output_type": "stream",
     "text": [
      "[AIMessage(content='', additional_kwargs={'tool_calls': [{'id': 'call_WCyu4S4SqcyvNJqw9b3TWwc5', 'function': {'arguments': '{\"query\":\"current weather in Chiniot\"}', 'name': 'tavily_search_results_json'}, 'type': 'function'}]}, response_metadata={'token_usage': {'completion_tokens': 23, 'prompt_tokens': 153, 'total_tokens': 176}, 'model_name': 'gpt-4o', 'system_fingerprint': 'fp_3cd8b62c3b', 'finish_reason': 'tool_calls', 'logprobs': None}, id='run-da30cf30-4a59-4272-944f-e275b4831e19-0', tool_calls=[{'name': 'tavily_search_results_json', 'args': {'query': 'current weather in Chiniot'}, 'id': 'call_WCyu4S4SqcyvNJqw9b3TWwc5'}])]\n",
      "Calling: {'name': 'tavily_search_results_json', 'args': {'query': 'current weather in Chiniot'}, 'id': 'call_WCyu4S4SqcyvNJqw9b3TWwc5'}\n",
      "Back to the model!\n",
      "[ToolMessage(content='[{\\'url\\': \\'https://www.weatherapi.com/\\', \\'content\\': \"{\\'location\\': {\\'name\\': \\'Chiniot\\', \\'region\\': \\'Punjab\\', \\'country\\': \\'Pakistan\\', \\'lat\\': 31.72, \\'lon\\': 72.98, \\'tz_id\\': \\'Asia/Karachi\\', \\'localtime_epoch\\': 1722717890, \\'localtime\\': \\'2024-08-04 1:44\\'}, \\'current\\': {\\'last_updated_epoch\\': 1722717000, \\'last_updated\\': \\'2024-08-04 01:30\\', \\'temp_c\\': 32.1, \\'temp_f\\': 89.9, \\'is_day\\': 0, \\'condition\\': {\\'text\\': \\'Clear\\', \\'icon\\': \\'//cdn.weatherapi.com/weather/64x64/night/113.png\\', \\'code\\': 1000}, \\'wind_mph\\': 7.8, \\'wind_kph\\': 12.6, \\'wind_degree\\': 95, \\'wind_dir\\': \\'E\\', \\'pressure_mb\\': 999.0, \\'pressure_in\\': 29.51, \\'precip_mm\\': 0.0, \\'precip_in\\': 0.0, \\'humidity\\': 62, \\'cloud\\': 19, \\'feelslike_c\\': 38.0, \\'feelslike_f\\': 100.4, \\'windchill_c\\': 32.1, \\'windchill_f\\': 89.9, \\'heatindex_c\\': 38.0, \\'heatindex_f\\': 100.4, \\'dewpoint_c\\': 23.8, \\'dewpoint_f\\': 74.9, \\'vis_km\\': 10.0, \\'vis_miles\\': 6.0, \\'uv\\': 1.0, \\'gust_mph\\': 11.0, \\'gust_kph\\': 17.7}}\"}, {\\'url\\': \\'https://www.timeanddate.com/weather/pakistan/chiniot/hourly\\', \\'content\\': \\'Hour-by-Hour Forecast for Chiniot, Pakistan. Weather Today Weather Hourly 14 Day Forecast Yesterday/Past Weather Climate (Averages) Currently: 79 °F. Clear. (Weather station: Lahore Airport, Pakistan). See more current weather.\\'}]', name='tavily_search_results_json', tool_call_id='call_WCyu4S4SqcyvNJqw9b3TWwc5')]\n",
      "[AIMessage(content='The current weather in Chiniot, Pakistan is as follows:\\n\\n- **Temperature**: 32.1°C (89.9°F)\\n- **Condition**: Clear\\n- **Feels Like**: 38.0°C (100.4°F)\\n- **Humidity**: 62%\\n- **Wind**: 12.6 kph (7.8 mph) from the East\\n- **Visibility**: 10 km (6 miles)\\n- **Pressure**: 999.0 mb (29.51 in)\\n- **UV Index**: 1 (Low)\\n\\nFor more details, you can refer to [WeatherAPI](https://www.weatherapi.com/) or [Time and Date](https://www.timeanddate.com/weather/pakistan/chiniot/hourly).', response_metadata={'token_usage': {'completion_tokens': 164, 'prompt_tokens': 665, 'total_tokens': 829}, 'model_name': 'gpt-4o', 'system_fingerprint': 'fp_3cd8b62c3b', 'finish_reason': 'stop', 'logprobs': None}, id='run-007eb8fa-7dd0-4cf9-8472-e8481849baa0-0')]\n"
     ]
    }
   ],
   "source": [
    "for event in abot.graph.stream({\"messages\": messages}, thread):\n",
    "    for v in event.values():\n",
    "        print(v['messages'])"
   ]
  },
  {
   "cell_type": "code",
   "execution_count": 11,
   "id": "6cb3ef4c-58b3-401b-b104-0d51e553d982",
   "metadata": {
    "height": 98
   },
   "outputs": [
    {
     "name": "stdout",
     "output_type": "stream",
     "text": [
      "{'messages': [AIMessage(content='', additional_kwargs={'tool_calls': [{'id': 'call_B7mIsqlYWEFLFZb14FBmSTuJ', 'function': {'arguments': '{\"query\":\"current weather in Faisalabad\"}', 'name': 'tavily_search_results_json'}, 'type': 'function'}]}, response_metadata={'token_usage': {'completion_tokens': 23, 'prompt_tokens': 843, 'total_tokens': 866}, 'model_name': 'gpt-4o', 'system_fingerprint': 'fp_3cd8b62c3b', 'finish_reason': 'tool_calls', 'logprobs': None}, id='run-ea592b34-4d2d-401f-8b4d-ac59dacad953-0', tool_calls=[{'name': 'tavily_search_results_json', 'args': {'query': 'current weather in Faisalabad'}, 'id': 'call_B7mIsqlYWEFLFZb14FBmSTuJ'}])]}\n",
      "Calling: {'name': 'tavily_search_results_json', 'args': {'query': 'current weather in Faisalabad'}, 'id': 'call_B7mIsqlYWEFLFZb14FBmSTuJ'}\n",
      "Back to the model!\n",
      "{'messages': [ToolMessage(content='[{\\'url\\': \\'https://www.weatherapi.com/\\', \\'content\\': \"{\\'location\\': {\\'name\\': \\'Faisalabad\\', \\'region\\': \\'Punjab\\', \\'country\\': \\'Pakistan\\', \\'lat\\': 31.42, \\'lon\\': 73.08, \\'tz_id\\': \\'Asia/Karachi\\', \\'localtime_epoch\\': 1722717914, \\'localtime\\': \\'2024-08-04 1:45\\'}, \\'current\\': {\\'last_updated_epoch\\': 1722717900, \\'last_updated\\': \\'2024-08-04 01:45\\', \\'temp_c\\': 31.8, \\'temp_f\\': 89.3, \\'is_day\\': 0, \\'condition\\': {\\'text\\': \\'Partly Cloudy\\', \\'icon\\': \\'//cdn.weatherapi.com/weather/64x64/night/116.png\\', \\'code\\': 1003}, \\'wind_mph\\': 7.8, \\'wind_kph\\': 12.6, \\'wind_degree\\': 95, \\'wind_dir\\': \\'E\\', \\'pressure_mb\\': 999.0, \\'pressure_in\\': 29.5, \\'precip_mm\\': 0.0, \\'precip_in\\': 0.0, \\'humidity\\': 63, \\'cloud\\': 49, \\'feelslike_c\\': 37.6, \\'feelslike_f\\': 99.8, \\'windchill_c\\': 31.8, \\'windchill_f\\': 89.3, \\'heatindex_c\\': 37.6, \\'heatindex_f\\': 99.8, \\'dewpoint_c\\': 23.9, \\'dewpoint_f\\': 75.0, \\'vis_km\\': 10.0, \\'vis_miles\\': 6.0, \\'uv\\': 1.0, \\'gust_mph\\': 11.0, \\'gust_kph\\': 17.7}}\"}, {\\'url\\': \\'https://www.timeanddate.com/weather/pakistan/faisalabad/ext\\', \\'content\\': \\'Faisalabad 14 Day Extended Forecast. Weather Today Weather Hourly 14 Day Forecast Yesterday/Past Weather Climate (Averages) Currently: 90 °F. Passing clouds. (Weather station: Lahore City, Pakistan). See more current weather.\\'}]', name='tavily_search_results_json', tool_call_id='call_B7mIsqlYWEFLFZb14FBmSTuJ')]}\n",
      "{'messages': [AIMessage(content='The current weather in Faisalabad, Pakistan is as follows:\\n\\n- **Temperature**: 31.8°C (89.3°F)\\n- **Condition**: Partly Cloudy\\n- **Feels Like**: 37.6°C (99.8°F)\\n- **Humidity**: 63%\\n- **Wind**: 12.6 kph (7.8 mph) from the East\\n- **Visibility**: 10 km (6 miles)\\n- **Pressure**: 999.0 mb (29.5 in)\\n- **UV Index**: 1 (Low)\\n\\nFor more details, you can refer to [WeatherAPI](https://www.weatherapi.com/) or [Time and Date](https://www.timeanddate.com/weather/pakistan/faisalabad/ext).', response_metadata={'token_usage': {'completion_tokens': 167, 'prompt_tokens': 1358, 'total_tokens': 1525}, 'model_name': 'gpt-4o', 'system_fingerprint': 'fp_3cd8b62c3b', 'finish_reason': 'stop', 'logprobs': None}, id='run-84232f3e-5fb3-45ff-abd6-c04c34ff9105-0')]}\n"
     ]
    }
   ],
   "source": [
    "messages = [HumanMessage(content=\"What about in Faisalabad?\")]\n",
    "thread = {\"configurable\": {\"thread_id\": \"1\"}}\n",
    "for event in abot.graph.stream({\"messages\": messages}, thread):\n",
    "    for v in event.values():\n",
    "        print(v)"
   ]
  },
  {
   "cell_type": "code",
   "execution_count": 12,
   "id": "dc3293b7-a50c-43c8-a022-8975e1e444b8",
   "metadata": {
    "height": 98
   },
   "outputs": [
    {
     "name": "stdout",
     "output_type": "stream",
     "text": [
      "{'messages': [AIMessage(content='Both Chiniot and Faisalabad have similar temperatures, but Chiniot is slightly warmer. \\n\\n- **Chiniot**: 32.1°C (89.9°F), Feels Like 38.0°C (100.4°F)\\n- **Faisalabad**: 31.8°C (89.3°F), Feels Like 37.6°C (99.8°F)\\n\\nSo, Chiniot is marginally warmer than Faisalabad.', response_metadata={'token_usage': {'completion_tokens': 101, 'prompt_tokens': 1537, 'total_tokens': 1638}, 'model_name': 'gpt-4o', 'system_fingerprint': 'fp_3cd8b62c3b', 'finish_reason': 'stop', 'logprobs': None}, id='run-0f27e90a-e64b-41bc-98b3-12ad3aabe6d5-0')]}\n"
     ]
    }
   ],
   "source": [
    "messages = [HumanMessage(content=\"Which one is warmer?\")]\n",
    "thread = {\"configurable\": {\"thread_id\": \"1\"}}\n",
    "for event in abot.graph.stream({\"messages\": messages}, thread):\n",
    "    for v in event.values():\n",
    "        print(v)"
   ]
  },
  {
   "cell_type": "code",
   "execution_count": 13,
   "id": "0722c3d4-4cbf-43bf-81b0-50f634c4ce61",
   "metadata": {
    "height": 98
   },
   "outputs": [
    {
     "name": "stdout",
     "output_type": "stream",
     "text": [
      "{'messages': [AIMessage(content='Could you please specify the two locations, objects, or time periods you are comparing in terms of warmth? This will help me provide a more accurate answer.', response_metadata={'token_usage': {'completion_tokens': 32, 'prompt_tokens': 149, 'total_tokens': 181}, 'model_name': 'gpt-4o', 'system_fingerprint': 'fp_3cd8b62c3b', 'finish_reason': 'stop', 'logprobs': None}, id='run-ea94d217-b1ad-4654-bae8-9738122b4645-0')]}\n"
     ]
    }
   ],
   "source": [
    "messages = [HumanMessage(content=\"Which one is warmer?\")]\n",
    "thread = {\"configurable\": {\"thread_id\": \"2\"}}\n",
    "for event in abot.graph.stream({\"messages\": messages}, thread):\n",
    "    for v in event.values():\n",
    "        print(v)"
   ]
  },
  {
   "cell_type": "markdown",
   "id": "ace59a36-3941-459e-b9d1-ac5a4a1ed3ae",
   "metadata": {},
   "source": [
    "## Streaming tokens"
   ]
  },
  {
   "cell_type": "code",
   "execution_count": 14,
   "id": "6b2f82fe-3ec4-4917-be51-9fb10d1317fa",
   "metadata": {
    "height": 81
   },
   "outputs": [],
   "source": [
    "from langgraph.checkpoint.aiosqlite import AsyncSqliteSaver\n",
    "\n",
    "memory = AsyncSqliteSaver.from_conn_string(\":memory:\")\n",
    "abot = Agent(model, [tool], system=prompt, checkpointer=memory)"
   ]
  },
  {
   "cell_type": "code",
   "execution_count": 16,
   "id": "ee0fe1c7-77e2-499c-a2f9-1f739bb6ddf0",
   "metadata": {
    "height": 200
   },
   "outputs": [
    {
     "name": "stdout",
     "output_type": "stream",
     "text": [
      "The current weather in Layyah, Pakistan is as follows:\n",
      "\n",
      "- **Temperature:** 32.9°C (91.2°F)\n",
      "- **Condition:** Clear\n",
      "- **Wind:** 10.7 mph (17.3 kph) from the ENE\n",
      "- **Pressure:** 994.0 mb\n",
      "- **Humidity:** 78%\n",
      "- **Visibility:** 10 km\n",
      "- **Feels like:** 45.5°C (113.9°F)\n",
      "\n",
      "It's important to check local weather updates for the most accurate and current information."
     ]
    }
   ],
   "source": [
    "messages = [HumanMessage(content=\"What is the weather in Layyah?\")]\n",
    "thread = {\"configurable\": {\"thread_id\": \"4\"}}\n",
    "async for event in abot.graph.astream_events({\"messages\": messages}, thread, version=\"v1\"):\n",
    "    kind = event[\"event\"]\n",
    "    if kind == \"on_chat_model_stream\":\n",
    "        content = event[\"data\"][\"chunk\"].content\n",
    "        if content:\n",
    "            # Empty content in the context of OpenAI means\n",
    "            # that the model is asking for a tool to be invoked.\n",
    "            # So we only print non-empty content\n",
    "            print(content, end=\"\")"
   ]
  },
  {
   "cell_type": "code",
   "execution_count": null,
   "id": "98f303b1-a4d0-408c-8cc0-515ff980717f",
   "metadata": {
    "height": 30
   },
   "outputs": [],
   "source": []
  }
 ],
 "metadata": {
  "kernelspec": {
   "display_name": "Python 3 (ipykernel)",
   "language": "python",
   "name": "python3"
  },
  "language_info": {
   "codemirror_mode": {
    "name": "ipython",
    "version": 3
   },
   "file_extension": ".py",
   "mimetype": "text/x-python",
   "name": "python",
   "nbconvert_exporter": "python",
   "pygments_lexer": "ipython3",
   "version": "3.11.9"
  }
 },
 "nbformat": 4,
 "nbformat_minor": 5
}
