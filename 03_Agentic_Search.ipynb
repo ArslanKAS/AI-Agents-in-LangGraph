{
 "cells": [
  {
   "cell_type": "markdown",
   "id": "2544dd96-a13c-42df-ab63-c427e68fd41e",
   "metadata": {},
   "source": [
    "# Lesson 3: Agentic Search"
   ]
  },
  {
   "cell_type": "code",
   "execution_count": 1,
   "id": "d0168aee-bce9-4d60-b827-f86a88187e31",
   "metadata": {
    "height": 183
   },
   "outputs": [],
   "source": [
    "# libraries\n",
    "from dotenv import load_dotenv\n",
    "import os\n",
    "from tavily import TavilyClient\n",
    "\n",
    "# load environment variables from .env file\n",
    "_ = load_dotenv()\n",
    "\n",
    "# connect\n",
    "client = TavilyClient(api_key=os.environ.get(\"TAVILY_API_KEY\"))"
   ]
  },
  {
   "cell_type": "code",
   "execution_count": 2,
   "id": "a2ba84ec-c172-4de7-ac55-e3158a531b23",
   "metadata": {
    "height": 132
   },
   "outputs": [
    {
     "data": {
      "text/plain": [
       "\"The new Nvidia Blackwell GPU, specifically the GB200 superchip, features two Nvidia B200 Tensor Core GPUs and a Grace CPU, containing 208 billion transistors across its two GPU dies, connected by a 10 TB/second chip-to-chip link. This powerful architecture provides 7x the performance and four times the training speed of an H100-powered system, making it a significant advancement in Nvidia's hardware lineup.\""
      ]
     },
     "execution_count": 2,
     "metadata": {},
     "output_type": "execute_result"
    }
   ],
   "source": [
    "# run search\n",
    "result = client.search(\"What is in Nvidia's new Blackwell GPU?\",\n",
    "                       include_answer=True)\n",
    "\n",
    "# print the answer\n",
    "result[\"answer\"]\n"
   ]
  },
  {
   "cell_type": "markdown",
   "id": "d7f3f33c-c7bd-4b7f-9616-b65eef104514",
   "metadata": {},
   "source": [
    "## Regular search"
   ]
  },
  {
   "cell_type": "code",
   "execution_count": 4,
   "id": "876d5092-b8ef-4e38-b4d7-0e80c609bf7a",
   "metadata": {
    "height": 285
   },
   "outputs": [
    {
     "data": {
      "text/plain": [
       "'The current weather in Faisalabad is partly cloudy with a temperature of 31.8°C (89.3°F). The humidity is at 63% with a slight breeze coming from the east at 12.6 km/h (7.8 mph). It feels like 37.6°C (99.8°F). Visibility is good at 10.0 km (6.0 miles). Considering the weather conditions, it seems suitable for travel today.'"
      ]
     },
     "execution_count": 4,
     "metadata": {},
     "output_type": "execute_result"
    }
   ],
   "source": [
    "# choose location (try to change to your own city!)\n",
    "\n",
    "city = \"Faisalabad\"\n",
    "\n",
    "query = f\"\"\"\n",
    "    what is the current weather in {city}?\n",
    "    Should I travel there today?\n",
    "    \"weather.com\"\n",
    "\"\"\"\n",
    "\n",
    "# run search\n",
    "result = client.search(query,\n",
    "                       include_answer=True)\n",
    "\n",
    "# print the answer\n",
    "result[\"answer\"]"
   ]
  },
  {
   "cell_type": "markdown",
   "id": "2128e40f-11ef-41ed-ac1f-7feeb5546224",
   "metadata": {},
   "source": [
    "> Note: search was modified to return expected results in the event of an exception. High volumes of student traffic sometimes cause rate limit exceptions."
   ]
  },
  {
   "cell_type": "code",
   "execution_count": 5,
   "id": "10084a02-2928-4945-9f7c-ad3f5b33caf7",
   "metadata": {
    "height": 404
   },
   "outputs": [
    {
     "name": "stdout",
     "output_type": "stream",
     "text": [
      "https://weather.com/weather/tenday/l/Faisalabad+Punjab+Pakistan?canonicalCityId=90ff1ccc4d865ebc81cba3ee9e893a45da8613d28b1a0a8eeae241129b9c5a68\n",
      "https://weather.com/en-PK/weather/hourbyhour/l/Islamabad+Islamabad+Capital+Territory?canonicalCityId=0d5ed3bbc3987ada5e00f6f71f4ea0cc37c42e6b77e962c63c64c8565a442703\n",
      "https://weather.com/en-PK/weather/today/l/Islamabad+Islamabad+Capital+Territory?canonicalCityId=0d5ed3bbc3987ada5e00f6f71f4ea0cc37c42e6b77e962c63c64c8565a442703\n",
      "https://weather.com/en-PK/weather/tenday/l/Islamabad+Islamabad+Capital+Territory?canonicalCityId=0d5ed3bbc3987ada5e00f6f71f4ea0cc37c42e6b77e962c63c64c8565a442703\n",
      "https://weather.com/weather/tenday/l/Islamabad+Islamabad+Capital+Territory+Pakistan?canonicalCityId=0d5ed3bbc3987ada5e00f6f71f4ea0cc37c42e6b77e962c63c64c8565a442703\n",
      "https://weather.com/weather/hourbyhour/l/Multan+Punjab+Pakistan?canonicalCityId=c530536b4b53b1193dfcee9d1f8a32031f7a29bce1e6e1e9e3de61782b82e4c2\n"
     ]
    }
   ],
   "source": [
    "import requests\n",
    "from bs4 import BeautifulSoup\n",
    "from duckduckgo_search import DDGS\n",
    "import re\n",
    "\n",
    "ddg = DDGS()\n",
    "\n",
    "def search(query, max_results=6):\n",
    "    try:\n",
    "        results = ddg.text(query, max_results=max_results)\n",
    "        return [i[\"href\"] for i in results]\n",
    "    except Exception as e:\n",
    "        print(f\"returning previous results due to exception reaching ddg.\")\n",
    "        results = [ # cover case where DDG rate limits due to high deeplearning.ai volume\n",
    "            \"https://weather.com/weather/today/l/USCA0987:1:US\",\n",
    "            \"https://weather.com/weather/hourbyhour/l/54f9d8baac32496f6b5497b4bf7a277c3e2e6cc5625de69680e6169e7e38e9a8\",\n",
    "        ]\n",
    "        return results  \n",
    "\n",
    "\n",
    "for i in search(query):\n",
    "    print(i)"
   ]
  },
  {
   "cell_type": "code",
   "execution_count": 6,
   "id": "d31c432d-8e22-412f-b302-961ace0b00bd",
   "metadata": {
    "height": 268
   },
   "outputs": [],
   "source": [
    "def scrape_weather_info(url):\n",
    "    \"\"\"Scrape content from the given URL\"\"\"\n",
    "    if not url:\n",
    "        return \"Weather information could not be found.\"\n",
    "    \n",
    "    # fetch data\n",
    "    headers = {'User-Agent': 'Mozilla/5.0'}\n",
    "    response = requests.get(url, headers=headers)\n",
    "    if response.status_code != 200:\n",
    "        return \"Failed to retrieve the webpage.\"\n",
    "\n",
    "    # parse result\n",
    "    soup = BeautifulSoup(response.text, 'html.parser')\n",
    "    return soup\n"
   ]
  },
  {
   "cell_type": "markdown",
   "id": "0b67d8ad-a439-4c91-9dfe-7c84998ef644",
   "metadata": {},
   "source": [
    "> Note: This produces a long output, you may want to right click and clear the cell output after you look at it briefly to avoid scrolling past it."
   ]
  },
  {
   "cell_type": "code",
   "execution_count": 7,
   "id": "714d1205-f8fc-4912-b148-2a45da99219c",
   "metadata": {
    "height": 149
   },
   "outputs": [
    {
     "name": "stdout",
     "output_type": "stream",
     "text": [
      "Website: https://weather.com/weather/tenday/l/Faisalabad+Punjab+Pakistan?canonicalCityId=90ff1ccc4d865ebc81cba3ee9e893a45da8613d28b1a0a8eeae241129b9c5a68\n",
      "\n",
      "\n",
      "<body><div class=\"appWrapper DaybreakLargeScreen LargeScreen lightTheme twcTheme DaybreakLargeScreen--appWrapper--3kKUE gradients--cloudyFoggyNight--hTBfM gradients--cloudyFoggyNight-top--1Xd8n\" id=\"appWrapper\"><div class=\"region-meta\"><div class=\"removeIfEmpty\" id=\"WxuHtmlHead-meta-\"></div></div><div class=\"region-topAds regionTopAds DaybreakLargeScreen--regionTopAds--2kcLJ\"><div class=\"removeIfEmpty\" id=\"WxuAd-topAds-53dce052-5465-4609-a555-c3a20ab64ab0\"><div class=\"adWrapper BaseAd--adWrapper\n"
     ]
    }
   ],
   "source": [
    "# use DuckDuckGo to find websites and take the first result\n",
    "url = search(query)[0]\n",
    "\n",
    "# scrape first wesbsite\n",
    "soup = scrape_weather_info(url)\n",
    "\n",
    "print(f\"Website: {url}\\n\\n\")\n",
    "print(str(soup.body)[:500]) # limit long outputs"
   ]
  },
  {
   "cell_type": "code",
   "execution_count": 8,
   "id": "6cb3ef4c-58b3-401b-b104-0d51e553d982",
   "metadata": {
    "height": 251
   },
   "outputs": [
    {
     "name": "stdout",
     "output_type": "stream",
     "text": [
      "Website: https://weather.com/weather/tenday/l/Faisalabad+Punjab+Pakistan?canonicalCityId=90ff1ccc4d865ebc81cba3ee9e893a45da8613d28b1a0a8eeae241129b9c5a68\n",
      "\n",
      "\n",
      "recents Specialty Forecasts 10 Day Weather - Faisalabad, Punjab, Pakistan Tonight Sat 03 | Night Partly cloudy skies. Low 81F. Winds E at 5 to 10 mph. Sun 04 Sun 04 | Day Thunderstorms likely in the morning. Then a chance of scattered thunderstorms in the afternoon. High 92F. Winds ESE at 5 to 10 mph. Chance of rain 70%. Sun 04 | Night Increasing clouds with showers arriving sometime after midnight. Low 82F. Winds light and variable. Chance of rain 40%. Mon 05 Mon 05 | Day Overcast with a slight chance of showers and thunderstorms, mainly in the morning. High 94F. Winds E at 5 to 10 mph. Chance of rain 30%. Mon 05 | Night Mostly cloudy skies early, then partly cloudy after midnight. Low 83F. Winds light and variable. Tue 06 Tue 06 | Day Partly to mostly cloudy. High near 95F. Winds ESE at 5 to 10 mph. Tue 06 | Night Partly cloudy in the evening. Increasing clouds with periods of showers after midnight. Low 82F. Winds SE at 5 to 10 mph. Chance of rain 40%. Wed 07 Wed 07 | Day Partly to mostly cloudy. High 94F. Winds ESE at 10 to 15 mph. Wed 07 | Night Cloudy with occasional showers. Low 82F. Winds SE at 5 to 10 mph. Chance of rain 40%. Thu 08 Thu 08 | Day Mainly cloudy. Hazy. High 94F. Winds ESE at 5 to 10 mph. Thu 08 | Night Rain showers early with mostly cloudy conditions late. Low 82F. Winds ESE at 5 to 10 mph. Chance of rain 40%. Fri 09 Fri 09 | Day Mainly cloudy. High around 95F. Winds ESE at 5 to 10 mph. Fri 09 | Night Partly cloudy. Low 83F. Winds SE at 5 to 10 mph. Sat 10 Sat 10 | Day Partly cloudy. High 96F. Winds SE at 5 to 10 mph. Sat 10 | Night A few clouds from time to time. Low 83F. Winds SE at 5 to 10 mph. Sun 11 Sun 11 | Day Intervals of clouds and sunshine. High 97F. Winds SE at 5 to 10 mph. Sun 11 | Night Cloudy with showers. Low 82F. Winds ESE at 5 to 10 mph. Chance of rain 50%. Mon 12 Mon 12 | Day Partly to mostly cloudy. High 94F. Winds ESE at 5 to 10 mph. Mon 12 | Night Partly cloudy in the evening. Increasing clouds with periods of showers after midnight. Low 81F. Winds ESE at 5 to 10 mph. Chance of rain 40%. Tue 13 Tue 13 | Day Partly cloudy skies. High near 95F. Winds ESE at 5 to 10 mph. Tue 13 | Night Cloudy with occasional rain showers. Low 82F. Winds ESE at 5 to 10 mph. Chance of rain 50%. Wed 14 Wed 14 | Day Overcast with rain showers at times. High near 95F. Winds ESE at 5 to 10 mph. Chance of rain 50%. Wed 14 | Night Considerable cloudiness with occasional rain showers. Low 82F. Winds SE at 5 to 10 mph. Chance of rain 60%. Thu 15 Thu 15 | Day Sunshine and clouds mixed. High around 95F. Winds SE at 5 to 10 mph. Thu 15 | Night Cloudy with occasional showers. Low 82F. Winds light and variable. Chance of rain 40%. Fri 16 Fri 16 | Day Partly to mostly cloudy. High around 95F. Winds ESE at 5 to 10 mph. Fri 16 | Night Overcast with rain showers at times. Low 82F. Winds ESE at 5 to 10 mph. Chance of rain 40%. Sat 17 Sat 17 | Day Overcast with rain showers at times. Hazy. High 93F. Winds E at 5 to 10 mph. Chance of rain 50%. Sat 17 | Night Cloudy with showers. Hazy. Low 81F. Winds E at 5 to 10 mph. Chance of rain 50%. Don't Miss Radar Summer Skin Essentials Home, Garage & Garden That's Not What Was Expected Outside Hurricane Forecasting To Infinity & Beyond Seasonal Spotlight Stay Safe Air Quality Index Members of sensitive groups may experience health effects. The general public is not likely to be affected. Health & Activities Seasonal Allergies and Pollen Count Forecast No pollen detected in your area We recognize our responsibility to use data and technology for good. We may use or share your data with our data vendors. Take control of your data. © The Weather Company, LLC 2024\n"
     ]
    }
   ],
   "source": [
    "# extract text\n",
    "weather_data = []\n",
    "for tag in soup.find_all(['h1', 'h2', 'h3', 'p']):\n",
    "    text = tag.get_text(\" \", strip=True)\n",
    "    weather_data.append(text)\n",
    "\n",
    "# combine all elements into a single string\n",
    "weather_data = \"\\n\".join(weather_data)\n",
    "\n",
    "# remove all spaces from the combined text\n",
    "weather_data = re.sub(r'\\s+', ' ', weather_data)\n",
    "    \n",
    "print(f\"Website: {url}\\n\\n\")\n",
    "print(weather_data)"
   ]
  },
  {
   "cell_type": "markdown",
   "id": "92db676d-d8d9-4558-8dcf-1b20fcb48e45",
   "metadata": {},
   "source": [
    "## Agentic Search"
   ]
  },
  {
   "cell_type": "code",
   "execution_count": 9,
   "id": "dc3293b7-a50c-43c8-a022-8975e1e444b8",
   "metadata": {
    "height": 132
   },
   "outputs": [
    {
     "name": "stdout",
     "output_type": "stream",
     "text": [
      "{'location': {'name': 'Faisalabad', 'region': 'Punjab', 'country': 'Pakistan', 'lat': 31.42, 'lon': 73.08, 'tz_id': 'Asia/Karachi', 'localtime_epoch': 1722717032, 'localtime': '2024-08-04 1:30'}, 'current': {'last_updated_epoch': 1722717000, 'last_updated': '2024-08-04 01:30', 'temp_c': 31.8, 'temp_f': 89.3, 'is_day': 0, 'condition': {'text': 'Partly Cloudy', 'icon': '//cdn.weatherapi.com/weather/64x64/night/116.png', 'code': 1003}, 'wind_mph': 7.8, 'wind_kph': 12.6, 'wind_degree': 95, 'wind_dir': 'E', 'pressure_mb': 999.0, 'pressure_in': 29.5, 'precip_mm': 0.0, 'precip_in': 0.0, 'humidity': 63, 'cloud': 49, 'feelslike_c': 37.6, 'feelslike_f': 99.8, 'windchill_c': 31.8, 'windchill_f': 89.3, 'heatindex_c': 37.6, 'heatindex_f': 99.8, 'dewpoint_c': 23.9, 'dewpoint_f': 75.0, 'vis_km': 10.0, 'vis_miles': 6.0, 'uv': 1.0, 'gust_mph': 11.0, 'gust_kph': 17.7}}\n"
     ]
    }
   ],
   "source": [
    "# run search\n",
    "result = client.search(query, max_results=1)\n",
    "\n",
    "# print first result\n",
    "data = result[\"results\"][0][\"content\"]\n",
    "\n",
    "print(data)"
   ]
  },
  {
   "cell_type": "code",
   "execution_count": 10,
   "id": "0722c3d4-4cbf-43bf-81b0-50f634c4ce61",
   "metadata": {
    "height": 251
   },
   "outputs": [
    {
     "name": "stdout",
     "output_type": "stream",
     "text": [
      "{\u001b[37m\u001b[39;49;00m\n",
      "\u001b[37m    \u001b[39;49;00m\u001b[94m\"location\"\u001b[39;49;00m:\u001b[37m \u001b[39;49;00m{\u001b[37m\u001b[39;49;00m\n",
      "\u001b[37m        \u001b[39;49;00m\u001b[94m\"name\"\u001b[39;49;00m:\u001b[37m \u001b[39;49;00m\u001b[33m\"Faisalabad\"\u001b[39;49;00m,\u001b[37m\u001b[39;49;00m\n",
      "\u001b[37m        \u001b[39;49;00m\u001b[94m\"region\"\u001b[39;49;00m:\u001b[37m \u001b[39;49;00m\u001b[33m\"Punjab\"\u001b[39;49;00m,\u001b[37m\u001b[39;49;00m\n",
      "\u001b[37m        \u001b[39;49;00m\u001b[94m\"country\"\u001b[39;49;00m:\u001b[37m \u001b[39;49;00m\u001b[33m\"Pakistan\"\u001b[39;49;00m,\u001b[37m\u001b[39;49;00m\n",
      "\u001b[37m        \u001b[39;49;00m\u001b[94m\"lat\"\u001b[39;49;00m:\u001b[37m \u001b[39;49;00m\u001b[34m31.42\u001b[39;49;00m,\u001b[37m\u001b[39;49;00m\n",
      "\u001b[37m        \u001b[39;49;00m\u001b[94m\"lon\"\u001b[39;49;00m:\u001b[37m \u001b[39;49;00m\u001b[34m73.08\u001b[39;49;00m,\u001b[37m\u001b[39;49;00m\n",
      "\u001b[37m        \u001b[39;49;00m\u001b[94m\"tz_id\"\u001b[39;49;00m:\u001b[37m \u001b[39;49;00m\u001b[33m\"Asia/Karachi\"\u001b[39;49;00m,\u001b[37m\u001b[39;49;00m\n",
      "\u001b[37m        \u001b[39;49;00m\u001b[94m\"localtime_epoch\"\u001b[39;49;00m:\u001b[37m \u001b[39;49;00m\u001b[34m1722717032\u001b[39;49;00m,\u001b[37m\u001b[39;49;00m\n",
      "\u001b[37m        \u001b[39;49;00m\u001b[94m\"localtime\"\u001b[39;49;00m:\u001b[37m \u001b[39;49;00m\u001b[33m\"2024-08-04 1:30\"\u001b[39;49;00m\u001b[37m\u001b[39;49;00m\n",
      "\u001b[37m    \u001b[39;49;00m},\u001b[37m\u001b[39;49;00m\n",
      "\u001b[37m    \u001b[39;49;00m\u001b[94m\"current\"\u001b[39;49;00m:\u001b[37m \u001b[39;49;00m{\u001b[37m\u001b[39;49;00m\n",
      "\u001b[37m        \u001b[39;49;00m\u001b[94m\"last_updated_epoch\"\u001b[39;49;00m:\u001b[37m \u001b[39;49;00m\u001b[34m1722717000\u001b[39;49;00m,\u001b[37m\u001b[39;49;00m\n",
      "\u001b[37m        \u001b[39;49;00m\u001b[94m\"last_updated\"\u001b[39;49;00m:\u001b[37m \u001b[39;49;00m\u001b[33m\"2024-08-04 01:30\"\u001b[39;49;00m,\u001b[37m\u001b[39;49;00m\n",
      "\u001b[37m        \u001b[39;49;00m\u001b[94m\"temp_c\"\u001b[39;49;00m:\u001b[37m \u001b[39;49;00m\u001b[34m31.8\u001b[39;49;00m,\u001b[37m\u001b[39;49;00m\n",
      "\u001b[37m        \u001b[39;49;00m\u001b[94m\"temp_f\"\u001b[39;49;00m:\u001b[37m \u001b[39;49;00m\u001b[34m89.3\u001b[39;49;00m,\u001b[37m\u001b[39;49;00m\n",
      "\u001b[37m        \u001b[39;49;00m\u001b[94m\"is_day\"\u001b[39;49;00m:\u001b[37m \u001b[39;49;00m\u001b[34m0\u001b[39;49;00m,\u001b[37m\u001b[39;49;00m\n",
      "\u001b[37m        \u001b[39;49;00m\u001b[94m\"condition\"\u001b[39;49;00m:\u001b[37m \u001b[39;49;00m{\u001b[37m\u001b[39;49;00m\n",
      "\u001b[37m            \u001b[39;49;00m\u001b[94m\"text\"\u001b[39;49;00m:\u001b[37m \u001b[39;49;00m\u001b[33m\"Partly Cloudy\"\u001b[39;49;00m,\u001b[37m\u001b[39;49;00m\n",
      "\u001b[37m            \u001b[39;49;00m\u001b[94m\"icon\"\u001b[39;49;00m:\u001b[37m \u001b[39;49;00m\u001b[33m\"//cdn.weatherapi.com/weather/64x64/night/116.png\"\u001b[39;49;00m,\u001b[37m\u001b[39;49;00m\n",
      "\u001b[37m            \u001b[39;49;00m\u001b[94m\"code\"\u001b[39;49;00m:\u001b[37m \u001b[39;49;00m\u001b[34m1003\u001b[39;49;00m\u001b[37m\u001b[39;49;00m\n",
      "\u001b[37m        \u001b[39;49;00m},\u001b[37m\u001b[39;49;00m\n",
      "\u001b[37m        \u001b[39;49;00m\u001b[94m\"wind_mph\"\u001b[39;49;00m:\u001b[37m \u001b[39;49;00m\u001b[34m7.8\u001b[39;49;00m,\u001b[37m\u001b[39;49;00m\n",
      "\u001b[37m        \u001b[39;49;00m\u001b[94m\"wind_kph\"\u001b[39;49;00m:\u001b[37m \u001b[39;49;00m\u001b[34m12.6\u001b[39;49;00m,\u001b[37m\u001b[39;49;00m\n",
      "\u001b[37m        \u001b[39;49;00m\u001b[94m\"wind_degree\"\u001b[39;49;00m:\u001b[37m \u001b[39;49;00m\u001b[34m95\u001b[39;49;00m,\u001b[37m\u001b[39;49;00m\n",
      "\u001b[37m        \u001b[39;49;00m\u001b[94m\"wind_dir\"\u001b[39;49;00m:\u001b[37m \u001b[39;49;00m\u001b[33m\"E\"\u001b[39;49;00m,\u001b[37m\u001b[39;49;00m\n",
      "\u001b[37m        \u001b[39;49;00m\u001b[94m\"pressure_mb\"\u001b[39;49;00m:\u001b[37m \u001b[39;49;00m\u001b[34m999.0\u001b[39;49;00m,\u001b[37m\u001b[39;49;00m\n",
      "\u001b[37m        \u001b[39;49;00m\u001b[94m\"pressure_in\"\u001b[39;49;00m:\u001b[37m \u001b[39;49;00m\u001b[34m29.5\u001b[39;49;00m,\u001b[37m\u001b[39;49;00m\n",
      "\u001b[37m        \u001b[39;49;00m\u001b[94m\"precip_mm\"\u001b[39;49;00m:\u001b[37m \u001b[39;49;00m\u001b[34m0.0\u001b[39;49;00m,\u001b[37m\u001b[39;49;00m\n",
      "\u001b[37m        \u001b[39;49;00m\u001b[94m\"precip_in\"\u001b[39;49;00m:\u001b[37m \u001b[39;49;00m\u001b[34m0.0\u001b[39;49;00m,\u001b[37m\u001b[39;49;00m\n",
      "\u001b[37m        \u001b[39;49;00m\u001b[94m\"humidity\"\u001b[39;49;00m:\u001b[37m \u001b[39;49;00m\u001b[34m63\u001b[39;49;00m,\u001b[37m\u001b[39;49;00m\n",
      "\u001b[37m        \u001b[39;49;00m\u001b[94m\"cloud\"\u001b[39;49;00m:\u001b[37m \u001b[39;49;00m\u001b[34m49\u001b[39;49;00m,\u001b[37m\u001b[39;49;00m\n",
      "\u001b[37m        \u001b[39;49;00m\u001b[94m\"feelslike_c\"\u001b[39;49;00m:\u001b[37m \u001b[39;49;00m\u001b[34m37.6\u001b[39;49;00m,\u001b[37m\u001b[39;49;00m\n",
      "\u001b[37m        \u001b[39;49;00m\u001b[94m\"feelslike_f\"\u001b[39;49;00m:\u001b[37m \u001b[39;49;00m\u001b[34m99.8\u001b[39;49;00m,\u001b[37m\u001b[39;49;00m\n",
      "\u001b[37m        \u001b[39;49;00m\u001b[94m\"windchill_c\"\u001b[39;49;00m:\u001b[37m \u001b[39;49;00m\u001b[34m31.8\u001b[39;49;00m,\u001b[37m\u001b[39;49;00m\n",
      "\u001b[37m        \u001b[39;49;00m\u001b[94m\"windchill_f\"\u001b[39;49;00m:\u001b[37m \u001b[39;49;00m\u001b[34m89.3\u001b[39;49;00m,\u001b[37m\u001b[39;49;00m\n",
      "\u001b[37m        \u001b[39;49;00m\u001b[94m\"heatindex_c\"\u001b[39;49;00m:\u001b[37m \u001b[39;49;00m\u001b[34m37.6\u001b[39;49;00m,\u001b[37m\u001b[39;49;00m\n",
      "\u001b[37m        \u001b[39;49;00m\u001b[94m\"heatindex_f\"\u001b[39;49;00m:\u001b[37m \u001b[39;49;00m\u001b[34m99.8\u001b[39;49;00m,\u001b[37m\u001b[39;49;00m\n",
      "\u001b[37m        \u001b[39;49;00m\u001b[94m\"dewpoint_c\"\u001b[39;49;00m:\u001b[37m \u001b[39;49;00m\u001b[34m23.9\u001b[39;49;00m,\u001b[37m\u001b[39;49;00m\n",
      "\u001b[37m        \u001b[39;49;00m\u001b[94m\"dewpoint_f\"\u001b[39;49;00m:\u001b[37m \u001b[39;49;00m\u001b[34m75.0\u001b[39;49;00m,\u001b[37m\u001b[39;49;00m\n",
      "\u001b[37m        \u001b[39;49;00m\u001b[94m\"vis_km\"\u001b[39;49;00m:\u001b[37m \u001b[39;49;00m\u001b[34m10.0\u001b[39;49;00m,\u001b[37m\u001b[39;49;00m\n",
      "\u001b[37m        \u001b[39;49;00m\u001b[94m\"vis_miles\"\u001b[39;49;00m:\u001b[37m \u001b[39;49;00m\u001b[34m6.0\u001b[39;49;00m,\u001b[37m\u001b[39;49;00m\n",
      "\u001b[37m        \u001b[39;49;00m\u001b[94m\"uv\"\u001b[39;49;00m:\u001b[37m \u001b[39;49;00m\u001b[34m1.0\u001b[39;49;00m,\u001b[37m\u001b[39;49;00m\n",
      "\u001b[37m        \u001b[39;49;00m\u001b[94m\"gust_mph\"\u001b[39;49;00m:\u001b[37m \u001b[39;49;00m\u001b[34m11.0\u001b[39;49;00m,\u001b[37m\u001b[39;49;00m\n",
      "\u001b[37m        \u001b[39;49;00m\u001b[94m\"gust_kph\"\u001b[39;49;00m:\u001b[37m \u001b[39;49;00m\u001b[34m17.7\u001b[39;49;00m\u001b[37m\u001b[39;49;00m\n",
      "\u001b[37m    \u001b[39;49;00m}\u001b[37m\u001b[39;49;00m\n",
      "}\u001b[37m\u001b[39;49;00m\n",
      "\n"
     ]
    }
   ],
   "source": [
    "import json\n",
    "from pygments import highlight, lexers, formatters\n",
    "\n",
    "# parse JSON\n",
    "parsed_json = json.loads(data.replace(\"'\", '\"'))\n",
    "\n",
    "# pretty print JSON with syntax highlighting\n",
    "formatted_json = json.dumps(parsed_json, indent=4)\n",
    "colorful_json = highlight(formatted_json,\n",
    "                          lexers.JsonLexer(),\n",
    "                          formatters.TerminalFormatter())\n",
    "\n",
    "print(colorful_json)\n"
   ]
  },
  {
   "cell_type": "markdown",
   "id": "837f3ecd-df6b-4f2f-9325-a253678897b0",
   "metadata": {},
   "source": [
    "<img src=\"./google_sample.png\" width=\"800\" height=\"600\">"
   ]
  },
  {
   "cell_type": "code",
   "execution_count": null,
   "id": "61f79eb9-d1c9-44b0-9efd-a8f9b380332a",
   "metadata": {
    "height": 30
   },
   "outputs": [],
   "source": []
  }
 ],
 "metadata": {
  "kernelspec": {
   "display_name": "Python 3 (ipykernel)",
   "language": "python",
   "name": "python3"
  },
  "language_info": {
   "codemirror_mode": {
    "name": "ipython",
    "version": 3
   },
   "file_extension": ".py",
   "mimetype": "text/x-python",
   "name": "python",
   "nbconvert_exporter": "python",
   "pygments_lexer": "ipython3",
   "version": "3.11.9"
  }
 },
 "nbformat": 4,
 "nbformat_minor": 5
}
